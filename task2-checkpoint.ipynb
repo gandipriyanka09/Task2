{
 "cells": [
  {
   "cell_type": "code",
   "execution_count": null,
   "id": "53bf3f60",
   "metadata": {},
   "outputs": [],
   "source": [
    "#Selenium is a web testing framework that automates browser interactions.\n",
    "#It provides a suite of tools to simulate user actions, interact with web elements,\n",
    "#and perform automated testing of web applications. Selenium supports various programming languages \n",
    "#and is widely used for web scraping, testing, and automating repetitive tasks."
   ]
  },
  {
   "cell_type": "code",
   "execution_count": 10,
   "id": "e5bb8af3",
   "metadata": {},
   "outputs": [],
   "source": [
    "# import libraries\n",
    "from selenium import webdriver #used for automating web browser interactions.\n",
    "from selenium.webdriver.common.by import By  #The By class is used to locate elements on a web page.\n",
    "from selenium.webdriver.support.ui import WebDriverWait#WebDriverWait is used for waiting until a certain condition is met before the execution.\n",
    "from selenium.webdriver.support import expected_conditions as EC#his module provides a set of predefined conditions to wait for.\n",
    "from selenium.common.exceptions import TimeoutException# This exception is raised when an operation times out.\n",
    "from tqdm import tqdm#which is used to create progress bars in the console.\n",
    "#It's not directly related to Selenium but might be used to show the progress of some task.\n",
    "import csv"
   ]
  },
  {
   "cell_type": "code",
   "execution_count": 9,
   "id": "e2340c69",
   "metadata": {},
   "outputs": [
    {
     "name": "stderr",
     "output_type": "stream",
     "text": [
      "100%|██████████████████████████████████████████████████████████████████████████████████| 15/15 [01:26<00:00,  5.77s/it]\n"
     ]
    }
   ],
   "source": [
    "\n",
    "if __name__ == '__main__':\n",
    "    # Setting up the Chrome WebDriver\n",
    "    driver = webdriver.Chrome()\n",
    "\n",
    "    # Creating a CSV file and loading the data\n",
    "    with open('twitter_data.csv', 'w', newline='', encoding='utf-8') as csv_file:\n",
    "        csv_writer = csv.writer(csv_file)\n",
    "        csv_writer.writerow(['Profile', 'Bio', 'Following Count', 'Followers Count', 'Location', 'Website'])\n",
    "\n",
    "        # Here is the profiles to extract data from\n",
    "        profiles = ['GTNUK1', 'whatsapp', 'aacb_CBPTrade', 'aacbdotcom', 'AAWindowPRODUCT',\n",
    "                    'aandb_kia', 'ABHomeInc', 'Abrepro', 'ACChristofiLtd',\n",
    "                    'aeclothing1', 'wix', 'AGInsuranceLLC','chiproytx','Ron4California','myogiadityanath']\n",
    "\n",
    "        # Iterating through the profiles\n",
    "        for profile in tqdm(profiles):\n",
    "            driver.get(f'https://twitter.com/{profile}')\n",
    "\n",
    "            # WebDriverWait waits for elements\n",
    "            try:\n",
    "                WebDriverWait(driver, 20).until(\n",
    "                    EC.presence_of_element_located((By.XPATH, '//div[@data-testid=\"UserDescription\"]'))\n",
    "                )\n",
    "            except TimeoutException:\n",
    "                print(f\"Timed out waiting for {profile} page to load.\")\n",
    "                continue\n",
    "\n",
    "            # Scraping user bio with WebDriverWait\n",
    "            try:\n",
    "                bio = WebDriverWait(driver, 10).until(\n",
    "                    EC.presence_of_element_located((By.XPATH, '//div[@data-testid=\"UserDescription\"]'))\n",
    "                ).text\n",
    "            except TimeoutException:\n",
    "                bio = 'NA'\n",
    "            \n",
    "            # Scraping the following count\n",
    "            try:\n",
    "                following_count = WebDriverWait(driver, 10).until(\n",
    "                    EC.presence_of_element_located((By.XPATH, '(//a[@role=\"link\"]/span/span)[1]'))\n",
    "                ).text\n",
    "            except TimeoutException:\n",
    "                following_count = '-'\n",
    "\n",
    "            # Scraping the followers count\n",
    "            try:\n",
    "                followers_count = WebDriverWait(driver, 10).until(\n",
    "                    EC.presence_of_element_located((By.XPATH, '(//a[@role=\"link\"]/span/span)[3]'))\n",
    "                ).text\n",
    "            except TimeoutException:\n",
    "                followers_count = '-'\n",
    "\n",
    "            # Scraping the user location\n",
    "            try:\n",
    "                location = WebDriverWait(driver, 10).until(\n",
    "                    EC.presence_of_element_located((By.XPATH, '//span[@data-testid=\"UserLocation\"]/span/span'))\n",
    "                ).text\n",
    "            except TimeoutException:\n",
    "                location = 'NA'\n",
    "\n",
    "            # Scraping the user website if present\n",
    "            try:\n",
    "                website = WebDriverWait(driver, 10).until(\n",
    "                    EC.presence_of_element_located((By.XPATH, '//a[@data-testid=\"UserUrl\"]/span'))\n",
    "                ).text\n",
    "            except TimeoutException:\n",
    "                website = 'NA'\n",
    "\n",
    "            # Writing data to CSV file\n",
    "            csv_writer.writerow([profile, bio, following_count, followers_count, location, website])\n",
    "\n",
    "    # Closing the browser\n",
    "    driver.quit()\n",
    "\n"
   ]
  },
  {
   "cell_type": "code",
   "execution_count": null,
   "id": "a4c292a2",
   "metadata": {},
   "outputs": [],
   "source": []
  },
  {
   "cell_type": "code",
   "execution_count": 4,
   "id": "0fbaee6b",
   "metadata": {},
   "outputs": [],
   "source": []
  },
  {
   "cell_type": "code",
   "execution_count": null,
   "id": "87303d61",
   "metadata": {},
   "outputs": [],
   "source": []
  },
  {
   "cell_type": "code",
   "execution_count": null,
   "id": "526d812d",
   "metadata": {},
   "outputs": [],
   "source": []
  },
  {
   "cell_type": "code",
   "execution_count": null,
   "id": "c2248986",
   "metadata": {},
   "outputs": [],
   "source": []
  }
 ],
 "metadata": {
  "kernelspec": {
   "display_name": "Python 3 (ipykernel)",
   "language": "python",
   "name": "python3"
  },
  "language_info": {
   "codemirror_mode": {
    "name": "ipython",
    "version": 3
   },
   "file_extension": ".py",
   "mimetype": "text/x-python",
   "name": "python",
   "nbconvert_exporter": "python",
   "pygments_lexer": "ipython3",
   "version": "3.10.8"
  }
 },
 "nbformat": 4,
 "nbformat_minor": 5
}
